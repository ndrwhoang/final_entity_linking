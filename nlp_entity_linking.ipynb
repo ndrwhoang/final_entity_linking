{
  "cells": [
    {
      "cell_type": "code",
      "execution_count": null,
      "metadata": {
        "id": "euAL6yqnWGkV"
      },
      "outputs": [],
      "source": [
        "# %cd /content\n",
        "# !rm -rf /content/final_entity_linking"
      ]
    },
    {
      "cell_type": "code",
      "execution_count": null,
      "metadata": {
        "colab": {
          "base_uri": "https://localhost:8080/"
        },
        "id": "1tj1LqnOeAd8",
        "outputId": "cba43765-3ab5-4c4c-bd9c-e45a38694209"
      },
      "outputs": [
        {
          "name": "stdout",
          "output_type": "stream",
          "text": [
            "Sun May  1 20:02:43 2022       \n",
            "+-----------------------------------------------------------------------------+\n",
            "| NVIDIA-SMI 460.32.03    Driver Version: 460.32.03    CUDA Version: 11.2     |\n",
            "|-------------------------------+----------------------+----------------------+\n",
            "| GPU  Name        Persistence-M| Bus-Id        Disp.A | Volatile Uncorr. ECC |\n",
            "| Fan  Temp  Perf  Pwr:Usage/Cap|         Memory-Usage | GPU-Util  Compute M. |\n",
            "|                               |                      |               MIG M. |\n",
            "|===============================+======================+======================|\n",
            "|   0  Tesla P100-PCIE...  Off  | 00000000:00:04.0 Off |                    0 |\n",
            "| N/A   32C    P0    27W / 250W |      0MiB / 16280MiB |      0%      Default |\n",
            "|                               |                      |                  N/A |\n",
            "+-------------------------------+----------------------+----------------------+\n",
            "                                                                               \n",
            "+-----------------------------------------------------------------------------+\n",
            "| Processes:                                                                  |\n",
            "|  GPU   GI   CI        PID   Type   Process name                  GPU Memory |\n",
            "|        ID   ID                                                   Usage      |\n",
            "|=============================================================================|\n",
            "|  No running processes found                                                 |\n",
            "+-----------------------------------------------------------------------------+\n"
          ]
        }
      ],
      "source": [
        "!nvidia-smi"
      ]
    },
    {
      "cell_type": "code",
      "execution_count": null,
      "metadata": {
        "colab": {
          "base_uri": "https://localhost:8080/"
        },
        "id": "mlJqgwzHebm_",
        "outputId": "91113d7b-228f-465e-acdf-c2644318319a"
      },
      "outputs": [
        {
          "name": "stdout",
          "output_type": "stream",
          "text": [
            "Your runtime has 27.3 gigabytes of available RAM\n",
            "\n"
          ]
        }
      ],
      "source": [
        "from psutil import virtual_memory\n",
        "ram_gb = virtual_memory().total / 1e9\n",
        "print('Your runtime has {:.1f} gigabytes of available RAM\\n'.format(ram_gb))"
      ]
    },
    {
      "cell_type": "code",
      "execution_count": null,
      "metadata": {
        "id": "eCjK1blLhsgZ"
      },
      "outputs": [],
      "source": [
        "%%capture\n",
        "!pip install transformers\n",
        "!pip install accelerate\n",
        "!pip install sentencepiece"
      ]
    },
    {
      "cell_type": "code",
      "execution_count": null,
      "metadata": {
        "colab": {
          "base_uri": "https://localhost:8080/"
        },
        "id": "6YJ1kOaxjfT7",
        "outputId": "90cc961c-3f26-43c5-8772-e3430353533d"
      },
      "outputs": [
        {
          "name": "stdout",
          "output_type": "stream",
          "text": [
            "Cloning into 'final_entity_linking'...\n",
            "remote: Enumerating objects: 92, done.\u001b[K\n",
            "remote: Counting objects: 100% (92/92), done.\u001b[K\n",
            "remote: Compressing objects: 100% (57/57), done.\u001b[K\n",
            "remote: Total 92 (delta 39), reused 77 (delta 24), pack-reused 0\u001b[K\n",
            "Unpacking objects: 100% (92/92), done.\n"
          ]
        }
      ],
      "source": [
        "!git clone https://github.com/ndrwhoang/final_entity_linking.git"
      ]
    },
    {
      "cell_type": "code",
      "execution_count": null,
      "metadata": {
        "colab": {
          "base_uri": "https://localhost:8080/"
        },
        "id": "WM3FQiwQlXMR",
        "outputId": "5cce823c-8ad4-46c8-e936-ce94615115c5"
      },
      "outputs": [
        {
          "name": "stdout",
          "output_type": "stream",
          "text": [
            "Mounted at /content/drive\n"
          ]
        }
      ],
      "source": [
        "from google.colab import drive\n",
        "drive.mount('/content/drive')"
      ]
    },
    {
      "cell_type": "code",
      "execution_count": null,
      "metadata": {
        "id": "iERFL2iJl312"
      },
      "outputs": [],
      "source": [
        "!cp -r /content/drive/MyDrive/entity_linking/tfidf_candidates /content/final_entity_linking/data/raw"
      ]
    },
    {
      "cell_type": "code",
      "execution_count": null,
      "metadata": {
        "id": "ZpLDO1oKmhhX"
      },
      "outputs": [],
      "source": [
        "!cp -r /content/drive/MyDrive/entity_linking/zeshel /content/final_entity_linking/data/raw"
      ]
    },
    {
      "cell_type": "code",
      "execution_count": null,
      "metadata": {
        "id": "MeuAkixx5Fv9"
      },
      "outputs": [],
      "source": [
        "!cp /content/drive/MyDrive/entity_linking/model_ckpt_ep_4.pt /content/final_entity_linking/"
      ]
    },
    {
      "cell_type": "code",
      "execution_count": null,
      "metadata": {
        "id": "pbX44dGvq0mw"
      },
      "outputs": [],
      "source": [
        "drive.flush_and_unmount()"
      ]
    },
    {
      "cell_type": "code",
      "execution_count": null,
      "metadata": {
        "colab": {
          "base_uri": "https://localhost:8080/"
        },
        "id": "-FZoDezlml9U",
        "outputId": "d8b83f56-66ab-4db5-e32d-83d56efb8025"
      },
      "outputs": [
        {
          "name": "stdout",
          "output_type": "stream",
          "text": [
            "/content/final_entity_linking\n"
          ]
        }
      ],
      "source": [
        "%cd /content/final_entity_linking"
      ]
    },
    {
      "cell_type": "markdown",
      "metadata": {
        "id": "-JS8lKbdL12J"
      },
      "source": [
        "# Train"
      ]
    },
    {
      "cell_type": "code",
      "execution_count": null,
      "metadata": {
        "id": "7SyAhulmcwve"
      },
      "outputs": [],
      "source": [
        "!python3 train.py"
      ]
    },
    {
      "cell_type": "code",
      "execution_count": null,
      "metadata": {
        "colab": {
          "base_uri": "https://localhost:8080/"
        },
        "id": "3RrnqJ53fG-O",
        "outputId": "c18e4467-aed8-46f7-b688-44525bb8b4e4"
      },
      "outputs": [
        {
          "name": "stdout",
          "output_type": "stream",
          "text": [
            "Mounted at /content/drive\n"
          ]
        }
      ],
      "source": [
        "drive.mount('/content/drive')"
      ]
    },
    {
      "cell_type": "code",
      "execution_count": null,
      "metadata": {
        "id": "r5eOjbFGHYA1"
      },
      "outputs": [],
      "source": [
        "!cp /content/final_entity_linking/output/model_ckpt_ep_4.pt /content/drive/MyDrive/entity_linking"
      ]
    },
    {
      "cell_type": "markdown",
      "metadata": {
        "id": "oW7qGe92Lzgq"
      },
      "source": [
        "# Test"
      ]
    },
    {
      "cell_type": "code",
      "execution_count": null,
      "metadata": {
        "colab": {
          "base_uri": "https://localhost:8080/"
        },
        "id": "nRLBBXwiO0BT",
        "outputId": "f675e6e0-cfab-4ad2-a535-3f3b224f89d9"
      },
      "outputs": [
        {
          "name": "stdout",
          "output_type": "stream",
          "text": [
            "hello world\n",
            "100% 16/16 [00:06<00:00,  2.63it/s]\n",
            "100% 10000/10000 [00:02<00:00, 4716.32it/s]\n",
            "INFO:src.dataset.dataset: Failed to parse 0 samples: []\n",
            "INFO:src.dataset.dataset:Loaded data from data\\raw\\zeshel\\mentions\\test.json, n_samples: 9982\n",
            "INFO:__main__:Accelerator settings\n",
            "INFO:__main__:Distributed environment: NO\n",
            "Num processes: 1\n",
            "Process index: 0\n",
            "Local process index: 0\n",
            "Device: cuda\n",
            "Mixed precision type: no\n",
            "\n",
            "INFO:__main__: Pretrained Encoder: model_ckpt_ep_4.pt\n",
            "INFO:src.inference: Loaded checkpoint from model_ckpt_ep_4.pt\n",
            "100% 624/624 [12:42<00:00,  1.22s/it]\n",
            "INFO:src.inference: Test set accuracy 0.6774193548387096\n"
          ]
        }
      ],
      "source": [
        "!python3 test.py"
      ]
    },
    {
      "cell_type": "code",
      "execution_count": null,
      "metadata": {
        "id": "tbSbRYdWWzDx"
      },
      "outputs": [],
      "source": []
    }
  ],
  "metadata": {
    "accelerator": "GPU",
    "colab": {
      "machine_shape": "hm",
      "name": "nlp_entity_linking.ipynb",
      "provenance": []
    },
    "kernelspec": {
      "display_name": "Python 3",
      "name": "python3"
    },
    "language_info": {
      "name": "python"
    }
  },
  "nbformat": 4,
  "nbformat_minor": 0
}
